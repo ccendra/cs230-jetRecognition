{
 "cells": [
  {
   "cell_type": "code",
   "execution_count": 1,
   "metadata": {
    "colab": {
     "autoexec": {
      "startup": false,
      "wait_interval": 0
     },
     "base_uri": "https://localhost:8080/",
     "height": 34,
     "output_extras": [
      {
       "item_id": 1
      }
     ]
    },
    "colab_type": "code",
    "executionInfo": {
     "elapsed": 13838,
     "status": "ok",
     "timestamp": 1519445607365,
     "user": {
      "displayName": "Camila Arantxa Cendra Guinassi",
      "photoUrl": "https://lh3.googleusercontent.com/a/default-user=s128",
      "userId": "112522075713209556564"
     },
     "user_tz": 480
    },
    "id": "U4RfRkvjIMkh",
    "outputId": "2596f085-bb3b-401c-ced4-33dc9c1fd9f1"
   },
   "outputs": [
    {
     "name": "stdout",
     "output_type": "stream",
     "text": [
      "Found GPU at: /device:GPU:0\n"
     ]
    }
   ],
   "source": [
    "import tensorflow as tf\n",
    "import numpy as np\n",
    "from six.moves import cPickle\n",
    "import matplotlib.pyplot as plt\n",
    "# this notebook was made in Colaboratory and the model was trained\n",
    "# with Colaboratory's GPU capabilities\n",
    "device_name = tf.test.gpu_device_name()\n",
    "if device_name != '/device:GPU:0':\n",
    "  raise SystemError('GPU device not found')\n",
    "print('Found GPU at: {}'.format(device_name))"
   ]
  },
  {
   "cell_type": "code",
   "execution_count": 0,
   "metadata": {
    "colab": {
     "autoexec": {
      "startup": false,
      "wait_interval": 0
     }
    },
    "colab_type": "code",
    "collapsed": true,
    "id": "dje-IbrCwUFa"
   },
   "outputs": [],
   "source": [
    "config = tf.ConfigProto()\n",
    "config.gpu_options.allow_growth = True"
   ]
  },
  {
   "cell_type": "code",
   "execution_count": 0,
   "metadata": {
    "colab": {
     "autoexec": {
      "startup": false,
      "wait_interval": 0
     }
    },
    "colab_type": "code",
    "collapsed": true,
    "id": "8BkgiD10IMkt"
   },
   "outputs": [],
   "source": [
    "import math\n",
    "\n",
    "# train/dev approach --> do train/dev/test when we get more data\n",
    "def load_data(input_path, gt_path, test_size=0.3):\n",
    "\n",
    "    input_data = np.load(input_path)\n",
    "    gt = np.load(gt_path)\n",
    "    m = input_data.shape[0]\n",
    "    testing_size = int(m*test_size)\n",
    "    #gets all the images all the way to the last 30%\n",
    "    train_x = input_data[:-testing_size, :,:]\n",
    "    train_y = gt[:-testing_size,:,:]\n",
    "    #gets all the features from the last 30%\n",
    "    test_x = input_data[m-testing_size:,:, :]\n",
    "    test_y = gt[m-testing_size:,:,:]\n",
    "    \n",
    "    return train_x, train_y, test_x, test_y\n",
    "\n",
    "\n",
    "\n",
    "def random_mini_batches(X, Y, mini_batch_size = 64):\n",
    "    \"\"\"\n",
    "    Creates a list of random minibatches from (X, Y)\n",
    "    \n",
    "    Arguments:\n",
    "    X -- input data, of shape (input size, number of examples) (m, Hi, Wi, Ci)\n",
    "    Y -- ground truth SHAPE TO BE DECIDED DEPENDING ON HOW WE LABEL THE DATA \n",
    "    mini_batch_size - size of the mini-batches, integer\n",
    "    \n",
    "    Returns:\n",
    "    mini_batches -- list of synchronous (mini_batch_X, mini_batch_Y)\n",
    "    \"\"\"\n",
    "    \n",
    "    m = X.shape[0]  \n",
    "    print(X.shape, Y.shape)\n",
    "    # number of training examples\n",
    "    mini_batches = []\n",
    "    \n",
    "    # Step 1: Shuffle (X, Y)\n",
    "    permutation = list(np.random.permutation(m))\n",
    "    \n",
    "    shuffled_X = X[permutation,:,:]\n",
    "    shuffled_X = np.expand_dims(shuffled_X, axis=4)\n",
    "    shuffled_Y = Y[permutation,:,:,:]\n",
    "    # Step 2: Partition (shuffled_X, shuffled_Y). Minus the end case.\n",
    "    num_complete_minibatches = math.floor(m/mini_batch_size) # number of mini batches of size mini_batch_size in your partitionning\n",
    "    for k in range(0, num_complete_minibatches):\n",
    "        mini_batch_X = shuffled_X[k * mini_batch_size : k * mini_batch_size + mini_batch_size,:,:, :]\n",
    "        mini_batch_Y = shuffled_Y[k * mini_batch_size : k * mini_batch_size + mini_batch_size,:,:, :]\n",
    "        mini_batch = (mini_batch_X, mini_batch_Y)\n",
    "        mini_batches.append(mini_batch)\n",
    "    \n",
    "    # Handling the end case (last mini-batch < mini_batch_size)\n",
    "    if m % mini_batch_size != 0:\n",
    "        mini_batch_X = shuffled_X[num_complete_minibatches * mini_batch_size : m,:,:,:]\n",
    "        mini_batch_Y = shuffled_Y[num_complete_minibatches * mini_batch_size : m,:,:,:]\n",
    "        mini_batch = (mini_batch_X, mini_batch_Y)\n",
    "        mini_batches.append(mini_batch)\n",
    "    \n",
    "    return mini_batches"
   ]
  },
  {
   "cell_type": "code",
   "execution_count": 4,
   "metadata": {
    "colab": {
     "autoexec": {
      "startup": false,
      "wait_interval": 0
     },
     "base_uri": "https://localhost:8080/",
     "height": 106,
     "output_extras": [
      {
       "item_id": 1
      },
      {
       "item_id": 2
      }
     ],
     "resources": {
      "http://localhost:8080/nbextensions/google.colab/files.js": {
       "data": "Ly8gQ29weXJpZ2h0IDIwMTcgR29vZ2xlIExMQwovLwovLyBMaWNlbnNlZCB1bmRlciB0aGUgQXBhY2hlIExpY2Vuc2UsIFZlcnNpb24gMi4wICh0aGUgIkxpY2Vuc2UiKTsKLy8geW91IG1heSBub3QgdXNlIHRoaXMgZmlsZSBleGNlcHQgaW4gY29tcGxpYW5jZSB3aXRoIHRoZSBMaWNlbnNlLgovLyBZb3UgbWF5IG9idGFpbiBhIGNvcHkgb2YgdGhlIExpY2Vuc2UgYXQKLy8KLy8gICAgICBodHRwOi8vd3d3LmFwYWNoZS5vcmcvbGljZW5zZXMvTElDRU5TRS0yLjAKLy8KLy8gVW5sZXNzIHJlcXVpcmVkIGJ5IGFwcGxpY2FibGUgbGF3IG9yIGFncmVlZCB0byBpbiB3cml0aW5nLCBzb2Z0d2FyZQovLyBkaXN0cmlidXRlZCB1bmRlciB0aGUgTGljZW5zZSBpcyBkaXN0cmlidXRlZCBvbiBhbiAiQVMgSVMiIEJBU0lTLAovLyBXSVRIT1VUIFdBUlJBTlRJRVMgT1IgQ09ORElUSU9OUyBPRiBBTlkgS0lORCwgZWl0aGVyIGV4cHJlc3Mgb3IgaW1wbGllZC4KLy8gU2VlIHRoZSBMaWNlbnNlIGZvciB0aGUgc3BlY2lmaWMgbGFuZ3VhZ2UgZ292ZXJuaW5nIHBlcm1pc3Npb25zIGFuZAovLyBsaW1pdGF0aW9ucyB1bmRlciB0aGUgTGljZW5zZS4KCi8qKgogKiBAZmlsZW92ZXJ2aWV3IEhlbHBlcnMgZm9yIGdvb2dsZS5jb2xhYiBQeXRob24gbW9kdWxlLgogKi8KKGZ1bmN0aW9uKHNjb3BlKSB7CmZ1bmN0aW9uIHNwYW4odGV4dCwgc3R5bGVBdHRyaWJ1dGVzID0ge30pIHsKICBjb25zdCBlbGVtZW50ID0gZG9jdW1lbnQuY3JlYXRlRWxlbWVudCgnc3BhbicpOwogIGVsZW1lbnQudGV4dENvbnRlbnQgPSB0ZXh0OwogIGZvciAoY29uc3Qga2V5IG9mIE9iamVjdC5rZXlzKHN0eWxlQXR0cmlidXRlcykpIHsKICAgIGVsZW1lbnQuc3R5bGVba2V5XSA9IHN0eWxlQXR0cmlidXRlc1trZXldOwogIH0KICByZXR1cm4gZWxlbWVudDsKfQoKLy8gTWF4IG51bWJlciBvZiBieXRlcyB3aGljaCB3aWxsIGJlIHVwbG9hZGVkIGF0IGEgdGltZS4KY29uc3QgTUFYX1BBWUxPQURfU0laRSA9IDEwMCAqIDEwMjQ7Ci8vIE1heCBhbW91bnQgb2YgdGltZSB0byBibG9jayB3YWl0aW5nIGZvciB0aGUgdXNlci4KY29uc3QgRklMRV9DSEFOR0VfVElNRU9VVF9NUyA9IDMwICogMTAwMDsKCmZ1bmN0aW9uIF91cGxvYWRGaWxlcyhpbnB1dElkLCBvdXRwdXRJZCkgewogIGNvbnN0IHN0ZXBzID0gdXBsb2FkRmlsZXNTdGVwKGlucHV0SWQsIG91dHB1dElkKTsKICBjb25zdCBvdXRwdXRFbGVtZW50ID0gZG9jdW1lbnQuZ2V0RWxlbWVudEJ5SWQob3V0cHV0SWQpOwogIC8vIENhY2hlIHN0ZXBzIG9uIHRoZSBvdXRwdXRFbGVtZW50IHRvIG1ha2UgaXQgYXZhaWxhYmxlIGZvciB0aGUgbmV4dCBjYWxsCiAgLy8gdG8gdXBsb2FkRmlsZXNDb250aW51ZSBmcm9tIFB5dGhvbi4KICBvdXRwdXRFbGVtZW50LnN0ZXBzID0gc3RlcHM7CgogIHJldHVybiBfdXBsb2FkRmlsZXNDb250aW51ZShvdXRwdXRJZCk7Cn0KCi8vIFRoaXMgaXMgcm91Z2hseSBhbiBhc3luYyBnZW5lcmF0b3IgKG5vdCBzdXBwb3J0ZWQgaW4gdGhlIGJyb3dzZXIgeWV0KSwKLy8gd2hlcmUgdGhlcmUgYXJlIG11bHRpcGxlIGFzeW5jaHJvbm91cyBzdGVwcyBhbmQgdGhlIFB5dGhvbiBzaWRlIGlzIGdvaW5nCi8vIHRvIHBvbGwgZm9yIGNvbXBsZXRpb24gb2YgZWFjaCBzdGVwLgovLyBUaGlzIHVzZXMgYSBQcm9taXNlIHRvIGJsb2NrIHRoZSBweXRob24gc2lkZSBvbiBjb21wbGV0aW9uIG9mIGVhY2ggc3RlcCwKLy8gdGhlbiBwYXNzZXMgdGhlIHJlc3VsdCBvZiB0aGUgcHJldmlvdXMgc3RlcCBhcyB0aGUgaW5wdXQgdG8gdGhlIG5leHQgc3RlcC4KZnVuY3Rpb24gX3VwbG9hZEZpbGVzQ29udGludWUob3V0cHV0SWQpIHsKICBjb25zdCBvdXRwdXRFbGVtZW50ID0gZG9jdW1lbnQuZ2V0RWxlbWVudEJ5SWQob3V0cHV0SWQpOwogIGNvbnN0IHN0ZXBzID0gb3V0cHV0RWxlbWVudC5zdGVwczsKCiAgY29uc3QgbmV4dCA9IHN0ZXBzLm5leHQob3V0cHV0RWxlbWVudC5sYXN0UHJvbWlzZVZhbHVlKTsKICByZXR1cm4gUHJvbWlzZS5yZXNvbHZlKG5leHQudmFsdWUucHJvbWlzZSkudGhlbigodmFsdWUpID0+IHsKICAgIC8vIENhY2hlIHRoZSBsYXN0IHByb21pc2UgdmFsdWUgdG8gbWFrZSBpdCBhdmFpbGFibGUgdG8gdGhlIG5leHQKICAgIC8vIHN0ZXAgb2YgdGhlIGdlbmVyYXRvci4KICAgIG91dHB1dEVsZW1lbnQubGFzdFByb21pc2VWYWx1ZSA9IHZhbHVlOwogICAgcmV0dXJuIG5leHQudmFsdWUucmVzcG9uc2U7CiAgfSk7Cn0KCi8qKgogKiBHZW5lcmF0b3IgZnVuY3Rpb24gd2hpY2ggaXMgY2FsbGVkIGJldHdlZW4gZWFjaCBhc3luYyBzdGVwIG9mIHRoZSB1cGxvYWQKICogcHJvY2Vzcy4KICogQHBhcmFtIHtzdHJpbmd9IGlucHV0SWQgRWxlbWVudCBJRCBvZiB0aGUgaW5wdXQgZmlsZSBwaWNrZXIgZWxlbWVudC4KICogQHBhcmFtIHtzdHJpbmd9IG91dHB1dElkIEVsZW1lbnQgSUQgb2YgdGhlIG91dHB1dCBkaXNwbGF5LgogKiBAcmV0dXJuIHshSXRlcmFibGU8IU9iamVjdD59IEl0ZXJhYmxlIG9mIG5leHQgc3RlcHMuCiAqLwpmdW5jdGlvbiogdXBsb2FkRmlsZXNTdGVwKGlucHV0SWQsIG91dHB1dElkKSB7CiAgY29uc3QgaW5wdXRFbGVtZW50ID0gZG9jdW1lbnQuZ2V0RWxlbWVudEJ5SWQoaW5wdXRJZCk7CiAgaW5wdXRFbGVtZW50LmRpc2FibGVkID0gZmFsc2U7CgogIGNvbnN0IG91dHB1dEVsZW1lbnQgPSBkb2N1bWVudC5nZXRFbGVtZW50QnlJZChvdXRwdXRJZCk7CiAgb3V0cHV0RWxlbWVudC5pbm5lckhUTUwgPSAnJzsKCiAgY29uc3QgcGlja2VkUHJvbWlzZSA9IG5ldyBQcm9taXNlKChyZXNvbHZlKSA9PiB7CiAgICBpbnB1dEVsZW1lbnQuYWRkRXZlbnRMaXN0ZW5lcignY2hhbmdlJywgKGUpID0+IHsKICAgICAgcmVzb2x2ZShlLnRhcmdldC5maWxlcyk7CiAgICB9KTsKICB9KTsKCiAgY29uc3QgY2FuY2VsID0gZG9jdW1lbnQuY3JlYXRlRWxlbWVudCgnYnV0dG9uJyk7CiAgaW5wdXRFbGVtZW50LnBhcmVudEVsZW1lbnQuYXBwZW5kQ2hpbGQoY2FuY2VsKTsKICBjYW5jZWwudGV4dENvbnRlbnQgPSAnQ2FuY2VsIHVwbG9hZCc7CiAgY29uc3QgY2FuY2VsUHJvbWlzZSA9IG5ldyBQcm9taXNlKChyZXNvbHZlKSA9PiB7CiAgICBjYW5jZWwub25jbGljayA9ICgpID0+IHsKICAgICAgcmVzb2x2ZShudWxsKTsKICAgIH07CiAgfSk7CgogIC8vIENhbmNlbCB1cGxvYWQgaWYgdXNlciBoYXNuJ3QgcGlja2VkIGFueXRoaW5nIGluIHRpbWVvdXQuCiAgY29uc3QgdGltZW91dFByb21pc2UgPSBuZXcgUHJvbWlzZSgocmVzb2x2ZSkgPT4gewogICAgc2V0VGltZW91dCgoKSA9PiB7CiAgICAgIHJlc29sdmUobnVsbCk7CiAgICB9LCBGSUxFX0NIQU5HRV9USU1FT1VUX01TKTsKICB9KTsKCiAgLy8gV2FpdCBmb3IgdGhlIHVzZXIgdG8gcGljayB0aGUgZmlsZXMuCiAgY29uc3QgZmlsZXMgPSB5aWVsZCB7CiAgICBwcm9taXNlOiBQcm9taXNlLnJhY2UoW3BpY2tlZFByb21pc2UsIHRpbWVvdXRQcm9taXNlLCBjYW5jZWxQcm9taXNlXSksCiAgICByZXNwb25zZTogewogICAgICBhY3Rpb246ICdzdGFydGluZycsCiAgICB9CiAgfTsKCiAgaWYgKCFmaWxlcykgewogICAgcmV0dXJuIHsKICAgICAgcmVzcG9uc2U6IHsKICAgICAgICBhY3Rpb246ICdjb21wbGV0ZScsCiAgICAgIH0KICAgIH07CiAgfQoKICBjYW5jZWwucmVtb3ZlKCk7CgogIC8vIERpc2FibGUgdGhlIGlucHV0IGVsZW1lbnQgc2luY2UgZnVydGhlciBwaWNrcyBhcmUgbm90IGFsbG93ZWQuCiAgaW5wdXRFbGVtZW50LmRpc2FibGVkID0gdHJ1ZTsKCiAgZm9yIChjb25zdCBmaWxlIG9mIGZpbGVzKSB7CiAgICBjb25zdCBsaSA9IGRvY3VtZW50LmNyZWF0ZUVsZW1lbnQoJ2xpJyk7CiAgICBsaS5hcHBlbmQoc3BhbihmaWxlLm5hbWUsIHtmb250V2VpZ2h0OiAnYm9sZCd9KSk7CiAgICBsaS5hcHBlbmQoc3BhbigKICAgICAgICBgKCR7ZmlsZS50eXBlIHx8ICduL2EnfSkgLSAke2ZpbGUuc2l6ZX0gYnl0ZXMsIGAgKwogICAgICAgIGBsYXN0IG1vZGlmaWVkOiAkewogICAgICAgICAgICBmaWxlLmxhc3RNb2RpZmllZERhdGUgPyBmaWxlLmxhc3RNb2RpZmllZERhdGUudG9Mb2NhbGVEYXRlU3RyaW5nKCkgOgogICAgICAgICAgICAgICAgICAgICAgICAgICAgICAgICAgICAnbi9hJ30gLSAlYCkpOwogICAgY29uc3QgcGVyY2VudCA9IHNwYW4oJzAgZG9uZScpOwogICAgbGkuYXBwZW5kQ2hpbGQocGVyY2VudCk7CgogICAgb3V0cHV0RWxlbWVudC5hcHBlbmRDaGlsZChsaSk7CgogICAgY29uc3QgZmlsZURhdGFQcm9taXNlID0gbmV3IFByb21pc2UoKHJlc29sdmUpID0+IHsKICAgICAgY29uc3QgcmVhZGVyID0gbmV3IEZpbGVSZWFkZXIoKTsKICAgICAgcmVhZGVyLm9ubG9hZCA9IChlKSA9PiB7CiAgICAgICAgcmVzb2x2ZShlLnRhcmdldC5yZXN1bHQpOwogICAgICB9OwogICAgICByZWFkZXIucmVhZEFzQXJyYXlCdWZmZXIoZmlsZSk7CiAgICB9KTsKICAgIC8vIFdhaXQgZm9yIHRoZSBkYXRhIHRvIGJlIHJlYWR5LgogICAgbGV0IGZpbGVEYXRhID0geWllbGQgewogICAgICBwcm9taXNlOiBmaWxlRGF0YVByb21pc2UsCiAgICAgIHJlc3BvbnNlOiB7CiAgICAgICAgYWN0aW9uOiAnY29udGludWUnLAogICAgICB9CiAgICB9OwoKICAgIC8vIFVzZSBhIGNodW5rZWQgc2VuZGluZyB0byBhdm9pZCBtZXNzYWdlIHNpemUgbGltaXRzLiBTZWUgYi82MjExNTY2MC4KICAgIGxldCBwb3NpdGlvbiA9IDA7CiAgICB3aGlsZSAocG9zaXRpb24gPCBmaWxlRGF0YS5ieXRlTGVuZ3RoKSB7CiAgICAgIGNvbnN0IGxlbmd0aCA9IE1hdGgubWluKGZpbGVEYXRhLmJ5dGVMZW5ndGggLSBwb3NpdGlvbiwgTUFYX1BBWUxPQURfU0laRSk7CiAgICAgIGNvbnN0IGNodW5rID0gbmV3IFVpbnQ4QXJyYXkoZmlsZURhdGEsIHBvc2l0aW9uLCBsZW5ndGgpOwogICAgICBwb3NpdGlvbiArPSBsZW5ndGg7CgogICAgICBjb25zdCBiYXNlNjQgPSBidG9hKFN0cmluZy5mcm9tQ2hhckNvZGUuYXBwbHkobnVsbCwgY2h1bmspKTsKICAgICAgeWllbGQgewogICAgICAgIHJlc3BvbnNlOiB7CiAgICAgICAgICBhY3Rpb246ICdhcHBlbmQnLAogICAgICAgICAgZmlsZTogZmlsZS5uYW1lLAogICAgICAgICAgZGF0YTogYmFzZTY0LAogICAgICAgIH0sCiAgICAgIH07CiAgICAgIHBlcmNlbnQudGV4dENvbnRlbnQgPQogICAgICAgICAgYCR7TWF0aC5yb3VuZCgocG9zaXRpb24gLyBmaWxlRGF0YS5ieXRlTGVuZ3RoKSAqIDEwMCl9IGRvbmVgOwogICAgfQogIH0KCiAgLy8gQWxsIGRvbmUuCiAgeWllbGQgewogICAgcmVzcG9uc2U6IHsKICAgICAgYWN0aW9uOiAnY29tcGxldGUnLAogICAgfQogIH07Cn0KCnNjb3BlLmdvb2dsZSA9IHNjb3BlLmdvb2dsZSB8fCB7fTsKc2NvcGUuZ29vZ2xlLmNvbGFiID0gc2NvcGUuZ29vZ2xlLmNvbGFiIHx8IHt9OwpzY29wZS5nb29nbGUuY29sYWIuX2ZpbGVzID0gewogIF91cGxvYWRGaWxlcywKICBfdXBsb2FkRmlsZXNDb250aW51ZSwKfTsKfSkoc2VsZik7Cg==",
       "headers": [
        [
         "content-type",
         "application/javascript"
        ]
       ],
       "ok": true,
       "status": 200,
       "status_text": ""
      }
     }
    },
    "colab_type": "code",
    "executionInfo": {
     "elapsed": 353973,
     "status": "ok",
     "timestamp": 1519445979967,
     "user": {
      "displayName": "Camila Arantxa Cendra Guinassi",
      "photoUrl": "https://lh3.googleusercontent.com/a/default-user=s128",
      "userId": "112522075713209556564"
     },
     "user_tz": 480
    },
    "id": "caJyOfFQIMkz",
    "outputId": "8b2b89e6-6162-4dec-9e27-f7b1df3c43c3"
   },
   "outputs": [
    {
     "data": {
      "text/html": [
       "\n",
       "     <input type=\"file\" id=\"files-5352bbc8-fa1d-46fd-ad1f-8066760386cb\" name=\"files[]\" multiple disabled />\n",
       "     <output id=\"result-5352bbc8-fa1d-46fd-ad1f-8066760386cb\">\n",
       "      Upload widget is only available when the cell has been executed in the\n",
       "      current browser session. Please rerun this cell to enable.\n",
       "      </output>\n",
       "      <script src=\"/nbextensions/google.colab/files.js\"</script> "
      ],
      "text/plain": [
       "<IPython.core.display.HTML object>"
      ]
     },
     "metadata": {
      "tags": []
     },
     "output_type": "display_data"
    },
    {
     "name": "stdout",
     "output_type": "stream",
     "text": [
      "User uploaded file \"binary_grids_30pt.npy\" with length 32768080 bytes\n",
      "User uploaded file \"pixel_image_pt.npy\" with length 32768080 bytes\n"
     ]
    }
   ],
   "source": [
    "from google.colab import files\n",
    "\n",
    "uploaded = files.upload()\n",
    "\n",
    "for fn in uploaded.keys():\n",
    "  print('User uploaded file \"{name}\" with length {length} bytes'.format(\n",
    "      name=fn, length=len(uploaded[fn])))\n"
   ]
  },
  {
   "cell_type": "code",
   "execution_count": 5,
   "metadata": {
    "colab": {
     "autoexec": {
      "startup": false,
      "wait_interval": 0
     },
     "base_uri": "https://localhost:8080/",
     "height": 68,
     "output_extras": [
      {
       "item_id": 1
      }
     ]
    },
    "colab_type": "code",
    "executionInfo": {
     "elapsed": 412,
     "status": "ok",
     "timestamp": 1519446991435,
     "user": {
      "displayName": "Camila Arantxa Cendra Guinassi",
      "photoUrl": "https://lh3.googleusercontent.com/a/default-user=s128",
      "userId": "112522075713209556564"
     },
     "user_tz": 480
    },
    "id": "hqj8PLPN7sIA",
    "outputId": "21ee3d0b-b9f6-48c3-ec6c-80b968a5495e"
   },
   "outputs": [
    {
     "name": "stdout",
     "output_type": "stream",
     "text": [
      "saved file binary_grids_30pt.npy\n",
      "saved file pixel_image_pt.npy\n",
      "4960.0 (4096000,)\n"
     ]
    }
   ],
   "source": [
    "for name, data in uploaded.items():\n",
    "  with open(name, 'wb') as f:\n",
    "    f.write(data)\n",
    "    print ('saved file', name)\n",
    "#get data\n",
    "input_path = \"pixel_image_pt.npy\"\n",
    "gt_path = \"binary_grids_30pt.npy\"\n",
    "gt = np.load(gt_path)\n",
    "gt = gt.reshape(-1)\n",
    "print(gt.sum(), gt.shape)"
   ]
  },
  {
   "cell_type": "code",
   "execution_count": 8,
   "metadata": {
    "colab": {
     "autoexec": {
      "startup": false,
      "wait_interval": 0
     },
     "base_uri": "https://localhost:8080/",
     "height": 85,
     "output_extras": [
      {
       "item_id": 1
      }
     ]
    },
    "colab_type": "code",
    "executionInfo": {
     "elapsed": 566,
     "status": "ok",
     "timestamp": 1519447036734,
     "user": {
      "displayName": "Camila Arantxa Cendra Guinassi",
      "photoUrl": "https://lh3.googleusercontent.com/a/default-user=s128",
      "userId": "112522075713209556564"
     },
     "user_tz": 480
    },
    "id": "MPuYsmpiPBuC",
    "outputId": "3b6fbae6-991a-411e-c97a-e32c01a32a82"
   },
   "outputs": [
    {
     "name": "stdout",
     "output_type": "stream",
     "text": [
      "saved file binary_grids_30pt.npy\n",
      "saved file pixel_image_pt.npy\n",
      "(700, 64, 64) (700, 64, 64)\n",
      "(300, 64, 64) (300, 64, 64)\n"
     ]
    }
   ],
   "source": [
    "for name, data in uploaded.items():\n",
    "  with open(name, 'wb') as f:\n",
    "    f.write(data)\n",
    "    print ('saved file', name)\n",
    "#get data\n",
    "input_path = \"pixel_image_pt.npy\"\n",
    "gt_path = \"binary_grids_30pt.npy\"\n",
    "train_x, train_y, test_x, test_y = load_data(input_path, gt_path, test_size=0.3)\n",
    "print(train_x.shape, train_y.shape)\n",
    "print(test_x.shape, test_y.shape)"
   ]
  },
  {
   "cell_type": "code",
   "execution_count": 0,
   "metadata": {
    "colab": {
     "autoexec": {
      "startup": false,
      "wait_interval": 0
     }
    },
    "colab_type": "code",
    "collapsed": true,
    "id": "2DH2cN6uIMk-"
   },
   "outputs": [],
   "source": [
    "def convert_to_one_hot(Y, C):\n",
    "    L = np.eye(C)[Y.reshape(-1).astype(int)]\n",
    "    Y = L.reshape(Y.shape[0], Y.shape[1], Y.shape[2], -1)\n",
    "    return Y"
   ]
  },
  {
   "cell_type": "code",
   "execution_count": 10,
   "metadata": {
    "colab": {
     "autoexec": {
      "startup": false,
      "wait_interval": 0
     },
     "base_uri": "https://localhost:8080/",
     "height": 51,
     "output_extras": [
      {
       "item_id": 1
      }
     ]
    },
    "colab_type": "code",
    "executionInfo": {
     "elapsed": 282,
     "status": "ok",
     "timestamp": 1519447042662,
     "user": {
      "displayName": "Camila Arantxa Cendra Guinassi",
      "photoUrl": "https://lh3.googleusercontent.com/a/default-user=s128",
      "userId": "112522075713209556564"
     },
     "user_tz": 480
    },
    "id": "hM8rnRLSLkdL",
    "outputId": "5f021645-b41e-4fc6-c92f-bb57675ad365"
   },
   "outputs": [
    {
     "name": "stdout",
     "output_type": "stream",
     "text": [
      "(700, 64, 64, 2)\n",
      "(300, 64, 64, 2)\n"
     ]
    }
   ],
   "source": [
    "train_y = convert_to_one_hot(train_y, 2)\n",
    "test_y = convert_to_one_hot(test_y, 2)\n",
    "print(train_y.shape)\n",
    "print(test_y.shape)"
   ]
  },
  {
   "cell_type": "code",
   "execution_count": 0,
   "metadata": {
    "colab": {
     "autoexec": {
      "startup": false,
      "wait_interval": 0
     }
    },
    "colab_type": "code",
    "collapsed": true,
    "id": "gtuqG3aUIMlC"
   },
   "outputs": [],
   "source": [
    "n_classes = 2\n",
    "k_size = 3\n",
    "(n_h, n_w, n_c) = (64, 64, 1)\n",
    "batch_size = 32\n",
    "weights = {}\n",
    "biases = {}\n",
    "learning_rate = 1e-4\n",
    "n_epochs = 1000"
   ]
  },
  {
   "cell_type": "code",
   "execution_count": 0,
   "metadata": {
    "colab": {
     "autoexec": {
      "startup": false,
      "wait_interval": 0
     }
    },
    "colab_type": "code",
    "collapsed": true,
    "id": "e3lRXtSoIMlG"
   },
   "outputs": [],
   "source": [
    "def create_placeholders(n_h, n_w, n_c, n_classes):\n",
    "    \"\"\"\n",
    "    Creates the placeholders for the tensorflow session.\n",
    "    \n",
    "    Arguments:\n",
    "    n_H0 -- scalar, height of an input image\n",
    "    n_W0 -- scalar, width of an input image\n",
    "    n_C0 -- scalar, number of channels of the input\n",
    "    n_y -- scalar, number of classes\n",
    "        \n",
    "    Returns:\n",
    "    X -- placeholder for the data input, of shape [None, n_H0, n_W0, n_C0] and dtype \"float\"\n",
    "    Y -- placeholder for the input labels, of shape [None, n_y] and dtype \"float\"\n",
    "    \"\"\"\n",
    "\n",
    "    X = tf.placeholder(tf.float32, shape=[None, n_h, n_w, n_c])\n",
    "    Y = tf.placeholder(tf.int32, shape=[None, n_h, n_w, n_classes])\n",
    "    \n",
    "    return X, Y"
   ]
  },
  {
   "cell_type": "code",
   "execution_count": 0,
   "metadata": {
    "colab": {
     "autoexec": {
      "startup": false,
      "wait_interval": 0
     }
    },
    "colab_type": "code",
    "collapsed": true,
    "id": "M7E7Uu_WIMlL"
   },
   "outputs": [],
   "source": [
    "def create_parameters():\n",
    "\n",
    "    init = tf.contrib.layers.xavier_initializer_conv2d(dtype=tf.float32)\n",
    "    initb = tf.constant_initializer(value=0.0, dtype=tf.float32)\n",
    "    \n",
    "    weights = {\n",
    "        \"W1_1\": tf.get_variable(\"W1_1\", [3, 3, 1, 64], initializer = init),\n",
    "        \"W1_2\": tf.get_variable(\"W1_2\", [3, 3, 64, 64], initializer = init),\n",
    "        \"W2_1\": tf.get_variable(\"W2_1\", [3, 3, 64, 128], initializer = init),\n",
    "        \"W2_2\": tf.get_variable(\"W2_2\", [3, 3, 128, 128], initializer = init),\n",
    "        \"W3_1\": tf.get_variable(\"W3_1\", [3, 3, 128, 256], initializer = init),\n",
    "        \"W3_2\": tf.get_variable(\"W3_2\", [3, 3, 256, 256], initializer = init),\n",
    "        \"W3_3\": tf.get_variable(\"W3_3\", [3, 3, 256, 256], initializer = init),\n",
    "        \"W4_1\": tf.get_variable(\"W4_1\", [3, 3, 256, 512], initializer = init),\n",
    "        \"W4_2\": tf.get_variable(\"W4_2\", [3, 3, 512, 512], initializer = init),\n",
    "        \"W4_3\": tf.get_variable(\"W4_3\", [3, 3, 512, 512], initializer = init),\n",
    "        \"W5_1\": tf.get_variable(\"W5_1\", [3, 3, 512, 512], initializer = init),\n",
    "        \"W5_2\": tf.get_variable(\"W5_2\", [3, 3, 512, 512], initializer = init),\n",
    "        \"W5_3\": tf.get_variable(\"W5_3\", [3, 3, 512, 512], initializer = init),\n",
    "        \"W6\": tf.get_variable(\"W6\", [3, 3, 512, 1024], initializer = init),\n",
    "        \"W7\": tf.get_variable(\"W7\", [1, 1, 1024, 1024], initializer = init),\n",
    "        \"W8\": tf.get_variable(\"W8\", [1, 1, 1024, n_classes], initializer = init),\n",
    "    }\n",
    "\n",
    "    biases = {\n",
    "        \"b1_1\": tf.get_variable(\"b1_1\", [64], initializer = initb),\n",
    "        \"b1_2\": tf.get_variable(\"b1_2\", [64], initializer = initb),\n",
    "        \n",
    "        \"b2_1\": tf.get_variable(\"b2_1\", [128], initializer = initb),\n",
    "        \"b2_2\": tf.get_variable(\"b2_2\", [128], initializer = initb),\n",
    "        \n",
    "        \"b3_1\": tf.get_variable(\"b3_1\", [256], initializer = initb),\n",
    "        \"b3_2\": tf.get_variable(\"b3_2\", [256], initializer = initb),\n",
    "        \"b3_3\": tf.get_variable(\"b3_3\", [256], initializer = initb),\n",
    "        \n",
    "        \"b4_1\": tf.get_variable(\"b4_1\", [512], initializer = initb),\n",
    "        \"b4_2\": tf.get_variable(\"b4_2\", [512], initializer = initb),\n",
    "        \"b4_3\": tf.get_variable(\"b4_3\", [512], initializer = initb),\n",
    "        \n",
    "        \"b5_1\": tf.get_variable(\"b5_1\", [512], initializer = initb),\n",
    "        \"b5_2\": tf.get_variable(\"b5_2\", [512], initializer = initb),\n",
    "        \"b5_3\": tf.get_variable(\"b5_3\", [512], initializer = initb),\n",
    "        \n",
    "        \"b6\": tf.get_variable(\"b6\", [1024], initializer = initb),\n",
    "        \n",
    "        \"b7\": tf.get_variable(\"b7\", [1024], initializer = initb),\n",
    "        \n",
    "        \"b8\": tf.get_variable(\"b8\", [n_classes], initializer = initb),\n",
    "    }\n",
    "    \n",
    "    return weights, biases"
   ]
  },
  {
   "cell_type": "code",
   "execution_count": 0,
   "metadata": {
    "colab": {
     "autoexec": {
      "startup": false,
      "wait_interval": 0
     }
    },
    "colab_type": "code",
    "collapsed": true,
    "id": "r9LrADf5IMlS"
   },
   "outputs": [],
   "source": [
    "def DeepLab_architecture(input, weights, biases, keep_prob):\n",
    "\n",
    "  with tf.device('/gpu:0'):      \n",
    "    conv1_1 = tf.nn.relu(tf.nn.bias_add(tf.nn.conv2d(input, weights[\"W1_1\"], strides=[1, 1, 1, 1],padding='SAME'), biases[\"b1_1\"]))\n",
    "    conv1_2 = tf.nn.relu(tf.nn.bias_add(tf.nn.conv2d(conv1_1, weights[\"W1_2\"], strides=[1, 1, 1, 1],padding='SAME'), biases[\"b1_2\"]))\n",
    "    pool_1 = tf.nn.max_pool(conv1_2,ksize=[1, k_size, k_size, 1],strides=[1, 2, 2, 1],padding='SAME')\n",
    "\n",
    "    conv2_1 = tf.nn.relu(tf.nn.bias_add(tf.nn.conv2d(pool_1, weights[\"W2_1\"], strides=[1, 1, 1, 1],padding='SAME'), biases[\"b2_1\"]))\n",
    "    conv2_2 = tf.nn.relu(tf.nn.bias_add(tf.nn.conv2d(conv2_1, weights[\"W2_2\"], strides=[1, 1, 1, 1],padding='SAME'), biases[\"b2_2\"]))\n",
    "    pool_2 = tf.nn.max_pool(conv2_2,ksize=[1, k_size, k_size, 1],strides=[1, 2, 2, 1],padding='SAME')\n",
    "\n",
    "    conv3_1 = tf.nn.relu(tf.nn.bias_add(tf.nn.conv2d(pool_2, weights[\"W3_1\"], strides=[1, 1, 1, 1],padding='SAME'), biases[\"b3_1\"]))\n",
    "    conv3_2 = tf.nn.relu(tf.nn.bias_add(tf.nn.conv2d(conv3_1, weights[\"W3_2\"], strides=[1, 1, 1, 1],padding='SAME'), biases[\"b3_2\"]))\n",
    "    conv3_3 = tf.nn.relu(tf.nn.bias_add(tf.nn.conv2d(conv3_2, weights[\"W3_3\"], strides=[1, 1, 1, 1],padding='SAME'), biases[\"b3_3\"]))\n",
    "    pool_3 = tf.nn.max_pool(conv3_3,ksize=[1, k_size, k_size, 1],strides=[1, 2, 2, 1],padding='SAME')\n",
    "\n",
    "    conv4_1 = tf.nn.relu(tf.nn.bias_add(tf.nn.conv2d(pool_3, weights[\"W4_1\"], strides=[1, 1, 1, 1],padding='SAME'), biases[\"b4_1\"]))\n",
    "    conv4_2 = tf.nn.relu(tf.nn.bias_add(tf.nn.conv2d(conv4_1, weights[\"W4_2\"], strides=[1, 1, 1, 1],padding='SAME'), biases[\"b4_2\"]))\n",
    "    conv4_3 = tf.nn.relu(tf.nn.bias_add(tf.nn.conv2d(conv4_2, weights[\"W4_3\"], strides=[1, 1, 1, 1],padding='SAME'), biases[\"b4_3\"]))\n",
    "    pool_4 = tf.nn.max_pool(conv4_3,ksize=[1, k_size, k_size, 1],strides=[1, 1, 1, 1],padding='SAME')\n",
    "\n",
    "    conv5_1 = tf.nn.relu(tf.nn.bias_add(tf.nn.atrous_conv2d(pool_4, weights[\"W5_1\"] , 2, padding='SAME'), biases[\"b5_1\"]))\n",
    "    conv5_2 = tf.nn.relu(tf.nn.bias_add(tf.nn.atrous_conv2d(conv5_1, weights[\"W5_2\"] , 2, padding='SAME'), biases[\"b5_2\"]))\n",
    "    conv5_3 = tf.nn.relu(tf.nn.bias_add(tf.nn.atrous_conv2d(conv5_2, weights[\"W5_3\"] , 2, padding='SAME'), biases[\"b5_3\"]))\n",
    "    pool_5 = tf.nn.max_pool(conv5_3,ksize=[1, k_size, k_size, 1],strides=[1, 1, 1, 1],padding='SAME')\n",
    "    avg_pool = tf.nn.avg_pool(pool_4, ksize=[1, k_size, k_size, 1], strides=[1, 1, 1, 1], padding='SAME')\n",
    "\n",
    "    fc6_1 = tf.nn.relu(tf.nn.bias_add(tf.nn.atrous_conv2d(avg_pool, weights[\"W6\"] , 12, padding='SAME'), biases[\"b6\"]))\n",
    "    drop_1 = tf.nn.dropout(fc6_1, keep_prob=keep_prob)\n",
    "\n",
    "    fc7_1 = tf.nn.relu(tf.nn.bias_add(tf.nn.conv2d(drop_1, weights[\"W7\"], strides=[1, 1, 1, 1], padding='SAME'), biases[\"b7\"]))\n",
    "    drop_2 = tf.nn.dropout(fc7_1, keep_prob=keep_prob)\n",
    "\n",
    "    fc8 = tf.nn.bias_add(tf.nn.conv2d(drop_2, weights[\"W8\"], strides=[1, 1, 1, 1], padding='SAME'), biases[\"b8\"])\n",
    "\n",
    "    return fc8\n"
   ]
  },
  {
   "cell_type": "code",
   "execution_count": 0,
   "metadata": {
    "colab": {
     "autoexec": {
      "startup": false,
      "wait_interval": 0
     }
    },
    "colab_type": "code",
    "collapsed": true,
    "id": "7Z87awWcIMlW"
   },
   "outputs": [],
   "source": [
    "def compute_cost(X, Y, weights, biases):\n",
    "    print(\"Label: \", Y.get_shape().as_list())\n",
    "    print(\"Logits: \", X.get_shape().as_list())\n",
    "    \n",
    "    prediction = tf.image.resize_images(X, tf.shape(Y)[1:3,])\n",
    "    prediction = tf.reshape(prediction, [-1, n_classes])\n",
    "    #gt = tf.image.resize_nearest_neighbor(Y , tf.stack(conv8.get_shape()[1:3]))\n",
    "    gt = tf.cast(tf.reshape(Y, [-1, n_classes]), tf.float32)\n",
    "    \n",
    "    cost = tf.reduce_mean(tf.nn.sigmoid_cross_entropy_with_logits(logits = prediction, labels = gt))\n",
    "    return cost"
   ]
  },
  {
   "cell_type": "code",
   "execution_count": 0,
   "metadata": {
    "colab": {
     "autoexec": {
      "startup": false,
      "wait_interval": 0
     }
    },
    "colab_type": "code",
    "collapsed": true,
    "id": "TPs6tCbXIMli"
   },
   "outputs": [],
   "source": [
    "def predict(X, weights, biases):\n",
    "\n",
    "    prediction = DeepLab_architecture(tf.cast(X, tf.float32),weights, biases, keep_prob=1)\n",
    "    prediction = tf.image.resize_images(prediction, tf.shape(X)[1:3,])\n",
    "    prediction = tf.argmax(prediction, dimension=3)\n",
    "\n",
    "    return tf.cast(prediction, tf.uint8)"
   ]
  },
  {
   "cell_type": "code",
   "execution_count": 0,
   "metadata": {
    "colab": {
     "autoexec": {
      "startup": false,
      "wait_interval": 0
     }
    },
    "colab_type": "code",
    "collapsed": true,
    "id": "osLFIymGIMlq"
   },
   "outputs": [],
   "source": [
    "#training function\n",
    "def train(X_train, Y_train, X_test, Y_test, learning_rate = learning_rate,\n",
    "          num_epochs = n_epochs, minibatch_size = batch_size, print_cost = True,\n",
    "          keep_prob = 0.5):\n",
    "    tf.reset_default_graph()\n",
    "    \n",
    "    costs = []\n",
    "\n",
    "    # Create Placeholders of the correct shape\n",
    "    X, Y = create_placeholders(n_h, n_w, n_c, n_classes)\n",
    "    \n",
    "    # Initialize parameters\n",
    "    weights, biases = create_parameters()\n",
    "\n",
    "    # define pred model\n",
    "    out = DeepLab_architecture(X, weights, biases,  keep_prob)\n",
    "    \n",
    "    # Cost function: Since we are using a binary classification --> sigmoid for now\n",
    "    cost = compute_cost(out, Y, weights, biases)\n",
    "    \n",
    "    # Define optimizer\n",
    "    optimizer = tf.train.AdamOptimizer(learning_rate = learning_rate).minimize(cost)\n",
    "    \n",
    "    # Define prediction func\n",
    "    predict_op = predict(X, weights, biases)\n",
    "    \n",
    "    # Define evaluation metrics\n",
    "    correct = tf.equal(tf.cast(predict_op, tf.int64), tf.argmax(Y,dimension=3))\n",
    "    accuracy = tf.reduce_mean(tf.cast(correct, 'float'))\n",
    "    confusion = tf.contrib.metrics.confusion_matrix(tf.reshape(predict_op, [-1]), tf.reshape(tf.argmax(Y,dimension=3), [-1]), num_classes=2)\n",
    "\n",
    "    # Start the session to compute the tensorflow graph\n",
    "    with tf.Session() as sess:\n",
    "        \n",
    "        # Run the initialization\n",
    "        sess.run(tf.global_variables_initializer())\n",
    "        sess.run(tf.initialize_local_variables())\n",
    "        \n",
    "        n_samples = X_train.shape[0]\n",
    "        # Do the training loop\n",
    "        for epoch in range(num_epochs):\n",
    "            \n",
    "            minibatch_cost = 0.\n",
    "            num_minibatches = int(n_samples / minibatch_size)\n",
    "            minibatches = random_mini_batches(X_train, Y_train, minibatch_size)\n",
    "            i = 1\n",
    "            for minibatch in minibatches:\n",
    "                #print('minibatch number '+str(i)+' in epoch : '+str(epoch))\n",
    "                i += 1\n",
    "                # Select a minibatch\n",
    "                (minibatch_X, minibatch_Y) = minibatch\n",
    "\n",
    "                _ , temp_cost = sess.run([optimizer, cost], feed_dict = {X: minibatch_X, Y: minibatch_Y})\n",
    "                \n",
    "                minibatch_cost += temp_cost / num_minibatches\n",
    "            print (\"Cost after epoch %i: %f\" % (epoch, minibatch_cost))\n",
    "            # Print the cost every epoch\n",
    "            if print_cost == True and epoch % 5 == 0:\n",
    "                print (\"Cost after epoch %i: %f\" % (epoch, minibatch_cost))\n",
    "            if print_cost == True and epoch % 1 == 0:\n",
    "                costs.append(minibatch_cost)\n",
    "                \n",
    "        # plot the cost\n",
    "        plt.plot(np.squeeze(costs))\n",
    "        plt.ylabel('cost')\n",
    "        plt.xlabel('iterations (per tens)')\n",
    "        plt.title(\"Learning rate =\" + str(learning_rate))\n",
    "        plt.show()\n",
    "\n",
    "        # Calculate the correct predictions\n",
    "        #predict_op = tf.expand_dims(predict_op, axis = -1)\n",
    "        #mIoU, update_op = tf.contrib.metrics.streaming_mean_iou(predict_op, Y, num_classes=2) \n",
    "\n",
    "\n",
    "        mean_iou, _ = tf.contrib.metrics.streaming_mean_iou(predict_op, tf.argmax(Y, dimension=3), num_classes=2)\n",
    "        #X_test = np.expand_dims(X_test, axis = -1)\n",
    "        #Y_test = np.expand_dims(Y_test, axis = -1)\n",
    "        #preds, _ = sess.run([predict_op, update_op], feed_dict={X: X_test, Y: Y_test})\n",
    "        \n",
    "        X_test = np.expand_dims(X_test, axis = -1)\n",
    "        print('Accuracy =', accuracy.eval({X: X_test, Y: Y_test}))\n",
    "        print('confusion:')\n",
    "        print(confusion.eval({X: X_test, Y: Y_test}))\n",
    "        ### FOR SOME REASON THIS IS NOT WORKING\n",
    "        ### FOLLOWED THIS BUT STILL DOESN'T WORK: https://github.com/tensorflow/tensorflow/issues/4331\n",
    "        ###accuracy_increment, iou_increment = sess.run([predict_op, mean_iou], feed_dict={ X: X_test, Y: Y_test})\n",
    "        ###print('Mean IoU: {:.3f}'.format(mIoU.eval(session=sess)))\n",
    "        \n",
    "        return \"belle\""
   ]
  },
  {
   "cell_type": "code",
   "execution_count": 18,
   "metadata": {
    "colab": {
     "autoexec": {
      "startup": false,
      "wait_interval": 0
     },
     "base_uri": "https://localhost:8080/",
     "height": 971,
     "output_extras": [
      {
       "item_id": 4
      },
      {
       "item_id": 5
      },
      {
       "item_id": 15
      },
      {
       "item_id": 16
      },
      {
       "item_id": 18
      }
     ]
    },
    "colab_type": "code",
    "executionInfo": {
     "elapsed": 44807,
     "status": "ok",
     "timestamp": 1519447102959,
     "user": {
      "displayName": "Camila Arantxa Cendra Guinassi",
      "photoUrl": "https://lh3.googleusercontent.com/a/default-user=s128",
      "userId": "112522075713209556564"
     },
     "user_tz": 480
    },
    "id": "5IUnk_iBIMlw",
    "outputId": "72df2d39-d674-4f66-a86f-1d8d5452dc72"
   },
   "outputs": [
    {
     "name": "stdout",
     "output_type": "stream",
     "text": [
      "Label:  [None, 64, 64, 2]\n",
      "Logits:  [None, 8, 8, 2]\n",
      "WARNING:tensorflow:From <ipython-input-16-d139960c9589>:5: calling argmax (from tensorflow.python.ops.math_ops) with dimension is deprecated and will be removed in a future version.\n",
      "Instructions for updating:\n",
      "Use the `axis` argument instead\n",
      "WARNING:tensorflow:From /usr/local/lib/python3.6/dist-packages/tensorflow/python/util/tf_should_use.py:118: initialize_local_variables (from tensorflow.python.ops.variables) is deprecated and will be removed after 2017-03-02.\n",
      "Instructions for updating:\n",
      "Use `tf.local_variables_initializer` instead.\n",
      "(700, 64, 64) (700, 64, 64, 2)\n"
     ]
    },
    {
     "name": "stderr",
     "output_type": "stream",
     "text": [
      "/usr/local/lib/python3.6/dist-packages/ipykernel_launcher.py:43: DeprecationWarning: Both axis > a.ndim and axis < -a.ndim - 1 are deprecated and will raise an AxisError in the future.\n"
     ]
    },
    {
     "name": "stdout",
     "output_type": "stream",
     "text": [
      "Cost after epoch 0: 0.265476\n",
      "Cost after epoch 0: 0.265476\n",
      "(700, 64, 64) (700, 64, 64, 2)\n",
      "Cost after epoch 1: 0.026670\n",
      "(700, 64, 64) (700, 64, 64, 2)\n",
      "Cost after epoch 2: 0.018587\n",
      "(700, 64, 64) (700, 64, 64, 2)\n",
      "Cost after epoch 3: 0.017369\n",
      "(700, 64, 64) (700, 64, 64, 2)\n",
      "Cost after epoch 4: 0.016547\n",
      "(700, 64, 64) (700, 64, 64, 2)\n",
      "Cost after epoch 5: 0.015756\n",
      "Cost after epoch 5: 0.015756\n",
      "(700, 64, 64) (700, 64, 64, 2)\n",
      "Cost after epoch 6: 0.015219\n",
      "(700, 64, 64) (700, 64, 64, 2)\n",
      "Cost after epoch 7: 0.013945\n",
      "(700, 64, 64) (700, 64, 64, 2)\n",
      "Cost after epoch 8: 0.012142\n",
      "(700, 64, 64) (700, 64, 64, 2)\n",
      "Cost after epoch 9: 0.010199\n"
     ]
    },
    {
     "data": {
      "image/png": "[encoded data removed]",
      "text/plain": [
       "<matplotlib.figure.Figure at 0x7f766f710a58>"
      ]
     },
     "metadata": {
      "tags": []
     },
     "output_type": "display_data"
    },
    {
     "name": "stdout",
     "output_type": "stream",
     "text": [
      "Accuracy = 0.9985425\n",
      "confusion:\n",
      "[[1227009    1791]\n",
      " [      0       0]]\n"
     ]
    }
   ],
   "source": [
    "_ = train(train_x, train_y, test_x, test_y, learning_rate = learning_rate,\n",
    "          num_epochs = 10, minibatch_size = batch_size, print_cost = True,\n",
    "          keep_prob = 0.5)\n",
    "                  "
   ]
  },
  {
   "cell_type": "code",
   "execution_count": 0,
   "metadata": {
    "colab": {
     "autoexec": {
      "startup": false,
      "wait_interval": 0
     }
    },
    "colab_type": "code",
    "collapsed": true,
    "id": "A-4s5flJIMl4"
   },
   "outputs": [],
   "source": []
  },
  {
   "cell_type": "code",
   "execution_count": 0,
   "metadata": {
    "colab": {
     "autoexec": {
      "startup": false,
      "wait_interval": 0
     }
    },
    "colab_type": "code",
    "collapsed": true,
    "id": "C2hhhWMwIMl9"
   },
   "outputs": [],
   "source": []
  },
  {
   "cell_type": "code",
   "execution_count": 0,
   "metadata": {
    "colab": {
     "autoexec": {
      "startup": false,
      "wait_interval": 0
     }
    },
    "colab_type": "code",
    "collapsed": true,
    "id": "RUCc2jr9IMmE"
   },
   "outputs": [],
   "source": []
  }
 ],
 "metadata": {
  "accelerator": "GPU",
  "colab": {
   "default_view": {},
   "name": "Model tester.ipynb",
   "provenance": [],
   "version": "0.3.2",
   "views": {}
  },
  "kernelspec": {
   "display_name": "Python 3",
   "language": "python",
   "name": "python3"
  },
  "language_info": {
   "codemirror_mode": {
    "name": "ipython",
    "version": 3
   },
   "file_extension": ".py",
   "mimetype": "text/x-python",
   "name": "python",
   "nbconvert_exporter": "python",
   "pygments_lexer": "ipython3",
   "version": "3.6.3"
  }
 },
 "nbformat": 4,
 "nbformat_minor": 1
}
